{
 "cells": [
  {
   "cell_type": "code",
   "execution_count": 1,
   "metadata": {},
   "outputs": [],
   "source": [
    "import pandas as pd\n",
    "import requests\n",
    "import bs4\n",
    "from urllib.request import Request, urlopen\n",
    "from bs4 import BeautifulSoup as soup\n",
    "from pytrends.request import TrendReq\n",
    "import numpy as np\n",
    "import re\n",
    "import time\n",
    "import csv\n",
    "import dateutil.relativedelta\n",
    "import matplotlib.pyplot as plt; plt.rcdefaults()\n",
    "from sklearn.linear_model import LinearRegression\n",
    "import statsmodels.formula.api as sm"
   ]
  },
  {
   "cell_type": "code",
   "execution_count": null,
   "metadata": {},
   "outputs": [],
   "source": [
    "#static lists\n",
    "#for knowyourmeme\n",
    "uNames = []\n",
    "Names = []\n",
    "#for lifetime\n",
    "emptyList = []\n",
    "tooNoisy = []\n",
    "newList = []"
   ]
  },
  {
   "cell_type": "markdown",
   "metadata": {},
   "source": [
    "# **Scraping for Meme Names**"
   ]
  },
  {
   "cell_type": "code",
   "execution_count": 125,
   "metadata": {},
   "outputs": [],
   "source": [
    "def uneditedNames(memes):\n",
    "    for meme in memes:\n",
    "        cats = meme.find_all(\"td\")\n",
    "        for cat in cats:\n",
    "            if(cat.a != None):\n",
    "                items = cat.a.attrs.keys()\n",
    "                if \"href\" in items:\n",
    "                    uNames.append(cat.a['href'])\n",
    "                \n",
    "def scrapeMemes(numRequests):\n",
    "    \n",
    "    headers = {'me':'Chrome/5.0'}  \n",
    "    numRequests = numRequests #288\n",
    "    \n",
    "    for x in range(1,numRequests):\n",
    "        print(x)\n",
    "        time.sleep(1)\n",
    "        page = ('https://knowyourmeme.com/memes/page/' + str(x))\n",
    "        req = Request(page,headers=headers)\n",
    "        webpage = urlopen(req).read()\n",
    "        page_soup = soup(webpage, 'html.parser')\n",
    "        memes = page_soup.body.find(id=\"content\").find(id=\"maru\").find(id=\"infinite-scroll-wrapper\").find(id=\"entries\").find(id=\"entries_list\").tbody.find_all(\"tr\")\n",
    "        uneditedNames(memes)\n",
    "        \n",
    "    for name in uNames:\n",
    "        if (\"/memes/\" in name):\n",
    "            newName = name\n",
    "            newName = newName.replace(\"/memes/\",\"\")\n",
    "            if re.search(r'/?/',newName):\n",
    "                \"\"\n",
    "            else:\n",
    "                newName = newName.replace(\"-\",\" \")\n",
    "                newName = newName + \" meme\"\n",
    "                Names.append(newName)"
   ]
  },
  {
   "cell_type": "markdown",
   "metadata": {},
   "source": [
    "# Helper Functions"
   ]
  },
  {
   "cell_type": "code",
   "execution_count": 100,
   "metadata": {},
   "outputs": [],
   "source": [
    "with open('TotalNames', 'w') as myfile:\n",
    "    wr = csv.writer(myfile, quoting=csv.QUOTE_ALL)\n",
    "    wr.writerow(Names)"
   ]
  },
  {
   "cell_type": "code",
   "execution_count": null,
   "metadata": {},
   "outputs": [],
   "source": [
    "def totalNames(Names): #create ; DANGER: Will delete all files when ran\n",
    "    with open('TotalNames', 'w') as myfile:\n",
    "    wr = csv.writer(myfile, quoting=csv.QUOTE_ALL)\n",
    "    wr.writerow(Names)"
   ]
  },
  {
   "cell_type": "code",
   "execution_count": 5,
   "metadata": {},
   "outputs": [],
   "source": [
    "def checkNoise(x):\n",
    "    try:\n",
    "        return ((x.iloc[1].values[0] + x.iloc[2].values[0]) / 2) < 50\n",
    "    except IndexError:\n",
    "        return False\n",
    "    "
   ]
  },
  {
   "cell_type": "code",
   "execution_count": 6,
   "metadata": {},
   "outputs": [],
   "source": [
    "def finalDf(toIter, mainDf):\n",
    "    for index, row in toIter.iterrows():\n",
    "        temp = mainDf[index:]\n",
    "        if checkNoise(temp):\n",
    "            return temp\n",
    "        \n",
    "    return pd.DataFrame()\n",
    "\n",
    "    "
   ]
  },
  {
   "cell_type": "code",
   "execution_count": 7,
   "metadata": {},
   "outputs": [],
   "source": [
    "def halfLife(start,end):\n",
    "    return end - start"
   ]
  },
  {
   "cell_type": "code",
   "execution_count": 148,
   "metadata": {},
   "outputs": [],
   "source": [
    "def checkDups(tList,df):\n",
    "    nope = []\n",
    "    yep = []\n",
    "    for meme in tList:\n",
    "        if meme in df['Title'].unique():\n",
    "            yep.append(meme)\n",
    "        else:\n",
    "            nope.append(meme)\n",
    "            \n",
    "    print(len(nope))\n",
    "    return nope"
   ]
  },
  {
   "cell_type": "code",
   "execution_count": 9,
   "metadata": {},
   "outputs": [],
   "source": [
    "def calcDate(peak):\n",
    "    time1 = peak - dateutil.relativedelta.relativedelta(months=6)\n",
    "    time2 = peak + dateutil.relativedelta.relativedelta(months=6)\n",
    "    time1 = time1.strftime(\"%Y-%m-%d \")\n",
    "    time2 = time2.strftime(\"%Y-%m-%d\")\n",
    "    return time1 + time2"
   ]
  },
  {
   "cell_type": "markdown",
   "metadata": {},
   "source": [
    "# Finding lifetime of a meme"
   ]
  },
  {
   "cell_type": "code",
   "execution_count": 10,
   "metadata": {},
   "outputs": [],
   "source": [
    "pytrends = TrendReq(hl='en-US', tz=360, retries=5, backoff_factor=0.1)"
   ]
  },
  {
   "cell_type": "code",
   "execution_count": 11,
   "metadata": {},
   "outputs": [],
   "source": [
    "def runMemesL(memeList):\n",
    "    counter = 0\n",
    "    count = 0\n",
    "    memeHalfLifes = pd.DataFrame(columns=['Peak_Date','Title','Half_Life'])\n",
    "    for meme in memeList:\n",
    "        try:\n",
    "            kw_list = [meme]\n",
    "            pytrends.build_payload(kw_list,  timeframe='all')\n",
    "            memeInterest = pytrends.interest_over_time()\n",
    "            count = count + 1\n",
    "            counter = 0\n",
    "            print(count)\n",
    "            if memeInterest.empty:\n",
    "                emptyList.append(meme)\n",
    "            else:\n",
    "                peakInterest = memeInterest[memeInterest[memeInterest.columns[0]] == 100]\n",
    "                PeakInterestDf = memeInterest[peakInterest.index[0]:]\n",
    "                halfInterest = PeakInterestDf[PeakInterestDf[memeInterest.columns[0]] < 50]\n",
    "                finalInterest = finalDf(halfInterest, memeInterest)\n",
    "                if finalInterest.empty:\n",
    "                    tooNoisy.append(meme)\n",
    "                else:\n",
    "                    halfLifeVal = halfLife(peakInterest.iloc[0].name, finalInterest.iloc[0].name)\n",
    "        \n",
    "                    l = [[peakInterest.index[0]], memeInterest.columns[0], halfLifeVal]\n",
    "                    temp = pd.DataFrame(data = [l], columns = ['Peak_Date','Title', 'Half_Life'])\n",
    "                    memeHalfLifes = memeHalfLifes.append(temp)\n",
    "        except:\n",
    "            if counter > 3:\n",
    "                return memeHalfLifes\n",
    "            print(counter)\n",
    "            print(meme)\n",
    "            newList.append(meme)\n",
    "            counter = counter + 1\n",
    "            time.sleep(15)\n",
    "            \n",
    "    return memeHalfLifes"
   ]
  },
  {
   "cell_type": "code",
   "execution_count": 12,
   "metadata": {},
   "outputs": [],
   "source": [
    "def runMemesD(memeFrame):\n",
    "    counter = 0\n",
    "    count = 0\n",
    "    memeHalfLifes = pd.DataFrame(columns=['Peak_Date','Title','Half_Life'])\n",
    "    for ir in memeFrame.itertuples():\n",
    "        try:\n",
    "            kw_list = [ir[2]]\n",
    "            date = calcDate(ir[1])\n",
    "            pytrends.build_payload(kw_list,  timeframe=date)\n",
    "            memeInterest = pytrends.interest_over_time()\n",
    "            count = count + 1\n",
    "            counter = 0\n",
    "            print(count)\n",
    "            if memeInterest.empty:\n",
    "                emptyList.append(ir[2])\n",
    "            else:\n",
    "                peakInterest = memeInterest[memeInterest[memeInterest.columns[0]] == 100]\n",
    "                PeakInterestDf = memeInterest[peakInterest.index[0]:]\n",
    "                halfInterest = PeakInterestDf[PeakInterestDf[memeInterest.columns[0]] < 50]\n",
    "                finalInterest = finalDf(halfInterest, memeInterest)\n",
    "                if finalInterest.empty:\n",
    "                    tooNoisy.append(meme)\n",
    "                else:\n",
    "                    halfLifeVal = halfLife(peakInterest.iloc[0].name, finalInterest.iloc[0].name)\n",
    "        \n",
    "                    l = [[peakInterest.index[0]], memeInterest.columns[0], halfLifeVal]\n",
    "                    temp = pd.DataFrame(data = [l], columns = ['Peak_Date','Title', 'Half_Life'])\n",
    "                    memeHalfLifes = memeHalfLifes.append(temp)\n",
    "        except Exception as e:\n",
    "            print(e)\n",
    "            if counter > 3:\n",
    "                return memeHalfLifes\n",
    "            print(counter)\n",
    "            print(ir[2])\n",
    "            counter = counter + 1\n",
    "            time.sleep(15)\n",
    "            \n",
    "    return memeHalfLifes "
   ]
  },
  {
   "cell_type": "code",
   "execution_count": null,
   "metadata": {},
   "outputs": [],
   "source": [
    "memesFA = runMemesL(tList)\n",
    "\n",
    "df = pd.read_pickle('memes.pkl')\n",
    "df = df.append(memesFA)\n",
    "\n",
    "with open('NamesLeft', 'w') as myfile:\n",
    "    wr = csv.writer(myfile, quoting=csv.QUOTE_ALL)\n",
    "    wr.writerow(checkDups(tList))\n",
    "    \n",
    "df.drop_duplicates(subset='Title', keep=\"first\", inplace=True)\n",
    "df.to_pickle('memes.pkl')"
   ]
  },
  {
   "cell_type": "code",
   "execution_count": 36,
   "metadata": {},
   "outputs": [],
   "source": [
    "with open('NamesLeft', 'r') as f:\n",
    "    reader = csv.reader(f)\n",
    "    your_list = list(reader)\n",
    "    tList = your_list[0]"
   ]
  },
  {
   "cell_type": "code",
   "execution_count": null,
   "metadata": {},
   "outputs": [],
   "source": [
    "x=0\n",
    "while x<6:\n",
    "    with open('NamesLeft', 'r') as f:\n",
    "        reader = csv.reader(f)\n",
    "        your_list = list(reader)\n",
    "        tList = your_list[0]\n",
    "    \n",
    "    memesFA = runMemesL(tList)\n",
    "\n",
    "    df = pd.read_pickle('memes.pkl')\n",
    "    df = df.append(memesFA)\n",
    "\n",
    "    with open('NamesLeft', 'w') as myfile:\n",
    "        wr = csv.writer(myfile, quoting=csv.QUOTE_ALL)\n",
    "        wr.writerow(checkDups(tList,df))\n",
    "    \n",
    "    df.drop_duplicates(subset='Title', keep=\"first\", inplace=True)\n",
    "    df.to_pickle('memes.pkl')\n",
    "    print(len(df))\n",
    "    \n",
    "    if (len(memesFA)<10):\n",
    "        x=x+1\n",
    "        time.sleep(3600)\n",
    "    else:\n",
    "        x = 0\n",
    "        time.sleep(86400)\n",
    "    "
   ]
  },
  {
   "cell_type": "code",
   "execution_count": 152,
   "metadata": {},
   "outputs": [
    {
     "name": "stdout",
     "output_type": "stream",
     "text": [
      "2267\n"
     ]
    }
   ],
   "source": [
    "df = pd.read_pickle('memes.pkl')\n",
    "with open('NamesLeft', 'w') as myfile:\n",
    "        wr = csv.writer(myfile, quoting=csv.QUOTE_ALL)\n",
    "        wr.writerow(checkDups(Names,df))"
   ]
  },
  {
   "cell_type": "code",
   "execution_count": 6,
   "metadata": {},
   "outputs": [
    {
     "data": {
      "text/plain": [
       "Timedelta('20 days 00:00:00')"
      ]
     },
     "execution_count": 6,
     "metadata": {},
     "output_type": "execute_result"
    }
   ],
   "source": [
    "final[final['year']==2019]['Half_Life'].mean()"
   ]
  },
  {
   "cell_type": "code",
   "execution_count": 11,
   "metadata": {},
   "outputs": [],
   "source": [
    "eList = []"
   ]
  },
  {
   "cell_type": "code",
   "execution_count": 12,
   "metadata": {},
   "outputs": [],
   "source": [
    "for x in range(2012,2019):\n",
    "    eList.append(final[final['year']==x]['Half_Life'].mean().total_seconds()/ datetime.timedelta(days=1).total_seconds())"
   ]
  },
  {
   "cell_type": "code",
   "execution_count": 187,
   "metadata": {},
   "outputs": [
    {
     "data": {
      "text/plain": [
       "2017"
      ]
     },
     "execution_count": 187,
     "metadata": {},
     "output_type": "execute_result"
    }
   ],
   "source": [
    "final['Peak_Date'].iloc[0].year"
   ]
  },
  {
   "cell_type": "code",
   "execution_count": 188,
   "metadata": {},
   "outputs": [],
   "source": [
    "final.to_pickle('final.pkl')"
   ]
  },
  {
   "cell_type": "code",
   "execution_count": 8,
   "metadata": {},
   "outputs": [],
   "source": [
    "final = pd.read_pickle(\"final.pkl\")"
   ]
  },
  {
   "cell_type": "code",
   "execution_count": 13,
   "metadata": {},
   "outputs": [
    {
     "data": {
      "image/png": "[encoded data removed]",
      "text/plain": [
       "<Figure size 432x288 with 1 Axes>"
      ]
     },
     "metadata": {
      "needs_background": "light"
     },
     "output_type": "display_data"
    }
   ],
   "source": [
    "fig = plt.figure()\n",
    "ax = plt.axes()\n",
    "ax.plot(eList, color = 'red')\n",
    "ax.bar(['2012','2013','2014','2015','2016','2017','2018'],eList)\n",
    "ax.grid()\n",
    "ax.set_ylabel('Lifetime in Days')\n",
    "ax.set_xlabel('Year')\n",
    "ax.set_title('Average Lifetime of Memes per Year')\n",
    "plt.show()"
   ]
  },
  {
   "cell_type": "code",
   "execution_count": 99,
   "metadata": {},
   "outputs": [
    {
     "data": {
      "text/plain": [
       "0    7 days\n",
       "0   35 days\n",
       "0   21 days\n",
       "0   14 days\n",
       "0    7 days\n",
       "0   28 days\n",
       "0   35 days\n",
       "0   21 days\n",
       "0    7 days\n",
       "0   14 days\n",
       "0    7 days\n",
       "0    7 days\n",
       "0   56 days\n",
       "0   28 days\n",
       "0   21 days\n",
       "0    7 days\n",
       "0    7 days\n",
       "0   49 days\n",
       "0    7 days\n",
       "0    7 days\n",
       "0   77 days\n",
       "0    7 days\n",
       "0    7 days\n",
       "0   14 days\n",
       "0    7 days\n",
       "0   42 days\n",
       "0   21 days\n",
       "Name: Half_Life, dtype: timedelta64[ns]"
      ]
     },
     "execution_count": 99,
     "metadata": {},
     "output_type": "execute_result"
    }
   ],
   "source": [
    "final[final['year']==2013]['Half_Life']"
   ]
  },
  {
   "cell_type": "code",
   "execution_count": 14,
   "metadata": {},
   "outputs": [],
   "source": [
    "fTime = []\n",
    "fPeak = []"
   ]
  },
  {
   "cell_type": "code",
   "execution_count": 15,
   "metadata": {},
   "outputs": [],
   "source": [
    "for index, row in final.iterrows():\n",
    "    fTime.append(row['Half_Life'].total_seconds()/ datetime.timedelta(days=1).total_seconds())\n",
    "    fPeak.append((row['Peak_Date']).toordinal())\n",
    "    "
   ]
  },
  {
   "cell_type": "code",
   "execution_count": 16,
   "metadata": {},
   "outputs": [],
   "source": [
    "final['fHalf_Life'] = fTime\n",
    "final['fPeak_Date'] = fPeak"
   ]
  },
  {
   "cell_type": "code",
   "execution_count": 24,
   "metadata": {},
   "outputs": [
    {
     "data": {
      "image/png": "[encoded data removed]",
      "text/plain": [
       "<Figure size 432x288 with 1 Axes>"
      ]
     },
     "metadata": {
      "needs_background": "light"
     },
     "output_type": "display_data"
    }
   ],
   "source": [
    "fig = plt.figure()\n",
    "ax = plt.axes()\n",
    "ax.scatter(final['Ordinal_Peak'],final['fHalf_Life'])\n",
    "\n",
    "plt.show()"
   ]
  },
  {
   "cell_type": "code",
   "execution_count": null,
   "metadata": {},
   "outputs": [],
   "source": [
    "final['Peak_Date'][0].toordinal()\n"
   ]
  },
  {
   "cell_type": "code",
   "execution_count": 138,
   "metadata": {},
   "outputs": [
    {
     "data": {
      "text/plain": [
       "732228"
      ]
     },
     "execution_count": 138,
     "metadata": {},
     "output_type": "execute_result"
    }
   ],
   "source": [
    "min(fPeak)"
   ]
  },
  {
   "cell_type": "code",
   "execution_count": 141,
   "metadata": {},
   "outputs": [],
   "source": []
  },
  {
   "cell_type": "code",
   "execution_count": 19,
   "metadata": {},
   "outputs": [],
   "source": [
    "newFP = []"
   ]
  },
  {
   "cell_type": "code",
   "execution_count": 20,
   "metadata": {},
   "outputs": [],
   "source": [
    "for x in fPeak:\n",
    "    newFP.append(x-min(fPeak))"
   ]
  },
  {
   "cell_type": "code",
   "execution_count": null,
   "metadata": {},
   "outputs": [],
   "source": [
    "newFP"
   ]
  },
  {
   "cell_type": "code",
   "execution_count": 22,
   "metadata": {},
   "outputs": [],
   "source": [
    "final['Ordinal_Peak'] = newFP"
   ]
  },
  {
   "cell_type": "code",
   "execution_count": null,
   "metadata": {},
   "outputs": [],
   "source": [
    "final"
   ]
  },
  {
   "cell_type": "code",
   "execution_count": 149,
   "metadata": {},
   "outputs": [
    {
     "data": {
      "text/plain": [
       "Timedelta('308 days 00:00:00')"
      ]
     },
     "execution_count": 149,
     "metadata": {},
     "output_type": "execute_result"
    }
   ],
   "source": [
    "max(final['Half_Life'])"
   ]
  },
  {
   "cell_type": "code",
   "execution_count": 151,
   "metadata": {},
   "outputs": [
    {
     "data": {
      "text/html": [
       "<div>\n",
       "<style scoped>\n",
       "    .dataframe tbody tr th:only-of-type {\n",
       "        vertical-align: middle;\n",
       "    }\n",
       "\n",
       "    .dataframe tbody tr th {\n",
       "        vertical-align: top;\n",
       "    }\n",
       "\n",
       "    .dataframe thead th {\n",
       "        text-align: right;\n",
       "    }\n",
       "</style>\n",
       "<table border=\"1\" class=\"dataframe\">\n",
       "  <thead>\n",
       "    <tr style=\"text-align: right;\">\n",
       "      <th></th>\n",
       "      <th>index</th>\n",
       "      <th>Peak_Date</th>\n",
       "      <th>Title</th>\n",
       "      <th>Half_Life</th>\n",
       "      <th>year</th>\n",
       "      <th>fHalf_Life</th>\n",
       "      <th>Ordinal_Peak</th>\n",
       "    </tr>\n",
       "  </thead>\n",
       "  <tbody>\n",
       "    <tr>\n",
       "      <th>526</th>\n",
       "      <td>0</td>\n",
       "      <td>2014-11-09</td>\n",
       "      <td>the struggle is real meme</td>\n",
       "      <td>308 days</td>\n",
       "      <td>2014</td>\n",
       "      <td>308.0</td>\n",
       "      <td>3318</td>\n",
       "    </tr>\n",
       "  </tbody>\n",
       "</table>\n",
       "</div>"
      ],
      "text/plain": [
       "     index   Peak_Date                      Title Half_Life  year  fHalf_Life  \\\n",
       "526      0  2014-11-09  the struggle is real meme  308 days  2014       308.0   \n",
       "\n",
       "     Ordinal_Peak  \n",
       "526          3318  "
      ]
     },
     "execution_count": 151,
     "metadata": {},
     "output_type": "execute_result"
    }
   ],
   "source": [
    "final.loc[final['Half_Life']==max(final['Half_Life'])]"
   ]
  },
  {
   "cell_type": "code",
   "execution_count": null,
   "metadata": {},
   "outputs": [],
   "source": []
  }
 ],
 "metadata": {
  "kernelspec": {
   "display_name": "Python 3",
   "language": "python",
   "name": "python3"
  },
  "language_info": {
   "codemirror_mode": {
    "name": "ipython",
    "version": 3
   },
   "file_extension": ".py",
   "mimetype": "text/x-python",
   "name": "python",
   "nbconvert_exporter": "python",
   "pygments_lexer": "ipython3",
   "version": "3.8.8"
  }
 },
 "nbformat": 4,
 "nbformat_minor": 2
}
