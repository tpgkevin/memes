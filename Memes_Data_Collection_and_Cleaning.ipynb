{
 "cells": [
  {
   "cell_type": "code",
   "execution_count": 1,
   "metadata": {},
   "outputs": [],
   "source": [
    "import pandas as pd\n",
    "import requests\n",
    "import bs4\n",
    "from urllib.request import Request, urlopen\n",
    "from bs4 import BeautifulSoup as soup\n",
    "from pytrends.request import TrendReq\n",
    "import numpy as np\n",
    "import datetime\n",
    "import time\n",
    "import csv\n",
    "import dateutil.relativedelta\n",
    "import matplotlib.pyplot as plt; plt.rcdefaults()\n",
    "plt.rcParams['font.family'] = 'helvetica'\n",
    "from sklearn.linear_model import LinearRegression\n",
    "from scipy import stats\n",
    "import statsmodels.formula.api as sm\n",
    "import re\n",
    "\n",
    "from pathlib import Path"
   ]
  },
  {
   "cell_type": "code",
   "execution_count": 2,
   "metadata": {},
   "outputs": [],
   "source": [
    "#static lists\n",
    "#for knowyourmeme\n",
    "uNames = []\n",
    "Names = []\n",
    "#for lifetime\n",
    "emptyList = []\n",
    "tooNoisy = []\n",
    "newList = []"
   ]
  },
  {
   "cell_type": "code",
   "execution_count": null,
   "metadata": {},
   "outputs": [],
   "source": []
  },
  {
   "cell_type": "markdown",
   "metadata": {},
   "source": [
    "# **Scraping for Meme Names**"
   ]
  },
  {
   "cell_type": "code",
   "execution_count": 3,
   "metadata": {},
   "outputs": [],
   "source": [
    "def uneditedNames(memes):\n",
    "    for meme in memes:\n",
    "        cats = meme.find_all(\"td\")\n",
    "        for cat in cats:\n",
    "            if(cat.a != None):\n",
    "                items = cat.a.attrs.keys()\n",
    "                if \"href\" in items:\n",
    "                    uNames.append(cat.a['href'])\n",
    "                \n",
    "def scrapeMemes(numRequests):\n",
    "    \n",
    "    headers = {'me':'Chrome/5.0'}  \n",
    "    numRequests = numRequests #288\n",
    "    \n",
    "    for x in range(1,numRequests):\n",
    "        print(x)\n",
    "        time.sleep(1)\n",
    "        page = ('https://knowyourmeme.com/memes/page/' + str(x))\n",
    "        req = Request(page,headers=headers)\n",
    "        webpage = urlopen(req).read()\n",
    "        page_soup = soup(webpage, 'html.parser')\n",
    "        memes = page_soup.body.find(id=\"content\").find(id=\"maru\").find(id=\"infinite-scroll-wrapper\").find(id=\"entries\").find(id=\"entries_list\").tbody.find_all(\"tr\")\n",
    "        uneditedNames(memes)\n",
    "        \n",
    "    for name in uNames:\n",
    "        if (\"/memes/\" in name):\n",
    "            newName = name\n",
    "            newName = newName.replace(\"/memes/\",\"\")\n",
    "            if re.search(r'/?/',newName):\n",
    "                \"\"\n",
    "            else:\n",
    "                newName = newName.replace(\"-\",\" \")\n",
    "                #newName = newName + \" meme\"\n",
    "                Names.append(newName)"
   ]
  },
  {
   "cell_type": "markdown",
   "metadata": {},
   "source": [
    "# Helper Functions"
   ]
  },
  {
   "cell_type": "code",
   "execution_count": 4,
   "metadata": {},
   "outputs": [],
   "source": [
    "def totalNames(Names): #create ; DANGER: Will delete all files when ran\n",
    "    with open('TotalNames', 'w') as myfile:\n",
    "        wr = csv.writer(myfile, quoting=csv.QUOTE_ALL)\n",
    "        wr.writerow(Names)"
   ]
  },
  {
   "cell_type": "code",
   "execution_count": 5,
   "metadata": {},
   "outputs": [],
   "source": [
    "def checkNoise(x):\n",
    "    try:\n",
    "        return ((x.iloc[1].values[0] + x.iloc[2].values[0]) / 2) < 50\n",
    "    except IndexError:\n",
    "        return False\n",
    "    "
   ]
  },
  {
   "cell_type": "code",
   "execution_count": 6,
   "metadata": {},
   "outputs": [],
   "source": [
    "def finalDf(toIter, mainDf):\n",
    "    for index, row in toIter.iterrows():\n",
    "        temp = mainDf[index:]\n",
    "        if checkNoise(temp):\n",
    "            return temp\n",
    "        \n",
    "    return pd.DataFrame()\n",
    "\n",
    "    "
   ]
  },
  {
   "cell_type": "code",
   "execution_count": 7,
   "metadata": {},
   "outputs": [],
   "source": [
    "def halfLife(start,end):\n",
    "    return end - start"
   ]
  },
  {
   "cell_type": "code",
   "execution_count": 8,
   "metadata": {},
   "outputs": [],
   "source": [
    "def checkDups(tList,toCheck):\n",
    "    nope = []\n",
    "    yep = []\n",
    "    for meme in tList:\n",
    "        if meme in toCheck:\n",
    "            yep.append(meme)\n",
    "        else:\n",
    "            nope.append(meme)\n",
    "            \n",
    "    print(len(nope))\n",
    "    return nope"
   ]
  },
  {
   "cell_type": "code",
   "execution_count": 9,
   "metadata": {},
   "outputs": [],
   "source": [
    "def calcDate(peak,time):\n",
    "    time1 = peak - dateutil.relativedelta.relativedelta(months=1)\n",
    "    time2 = peak + dateutil.relativedelta.relativedelta(months=time-1)\n",
    "    time1 = time1.strftime(\"%Y-%m-%d \")\n",
    "    time2 = time2.strftime(\"%Y-%m-%d\")\n",
    "    return time1 + time2"
   ]
  },
  {
   "cell_type": "code",
   "execution_count": 10,
   "metadata": {},
   "outputs": [],
   "source": [
    "def to_date(x):\n",
    "    return x[0].date()"
   ]
  },
  {
   "cell_type": "code",
   "execution_count": 11,
   "metadata": {},
   "outputs": [],
   "source": [
    "def make_f_vals(df):\n",
    "    fTime = []\n",
    "    fPeak = []\n",
    "    year = []\n",
    "    newFP = []\n",
    "    \n",
    "    for index, row in df.iterrows():\n",
    "        fTime.append(row['Half_Life'].total_seconds()/ datetime.timedelta(days=1).total_seconds())\n",
    "        fPeak.append((row['Peak_Date']).toordinal())\n",
    "        year.append(row['Peak_Date'].year)\n",
    "    \n",
    "    for x in fPeak:\n",
    "        newFP.append(x-min(fPeak))\n",
    "    \n",
    "    df['fHalf_Life'] = fTime\n",
    "    df['fPeak_Date'] = fPeak\n",
    "    df['year'] = year\n",
    "    df['Ordinal_Peak'] = newFP\n",
    "    \n",
    "    return df"
   ]
  },
  {
   "cell_type": "markdown",
   "metadata": {},
   "source": [
    "# Finding lifetime of a meme"
   ]
  },
  {
   "cell_type": "code",
   "execution_count": 12,
   "metadata": {},
   "outputs": [],
   "source": [
    "pytrends = TrendReq(hl='en-US', tz=360, retries=5, backoff_factor=0.1)"
   ]
  },
  {
   "cell_type": "code",
   "execution_count": 13,
   "metadata": {},
   "outputs": [],
   "source": [
    "def runMemesL(memeList):\n",
    "    counter = 0\n",
    "    count = 0\n",
    "    memeHalfLifes = pd.DataFrame(columns=['Peak_Date','Title','Half_Life'])\n",
    "    for meme in memeList:\n",
    "        try:\n",
    "            kw_list = [meme]\n",
    "            pytrends.build_payload(kw_list,  timeframe='all')\n",
    "            memeInterest = pytrends.interest_over_time()\n",
    "            count = count + 1\n",
    "            counter = 0\n",
    "            print(count)\n",
    "            if memeInterest.empty:\n",
    "                emptyList.append(meme)\n",
    "            else:\n",
    "                peakInterest = memeInterest[memeInterest[memeInterest.columns[0]] == 100]\n",
    "                PeakInterestDf = memeInterest[peakInterest.index[0]:]\n",
    "                halfInterest = PeakInterestDf[PeakInterestDf[memeInterest.columns[0]] < 50]\n",
    "                finalInterest = finalDf(halfInterest, memeInterest)\n",
    "                if finalInterest.empty:\n",
    "                    tooNoisy.append(meme)\n",
    "                else:\n",
    "                    halfLifeVal = halfLife(peakInterest.iloc[0].name, finalInterest.iloc[0].name)\n",
    "        \n",
    "                    l = [[peakInterest.index[0]], memeInterest.columns[0], halfLifeVal]\n",
    "                    temp = pd.DataFrame(data = [l], columns = ['Peak_Date','Title', 'Half_Life'])\n",
    "                    memeHalfLifes = memeHalfLifes.append(temp)\n",
    "        except:\n",
    "            if counter > 3:\n",
    "                return memeHalfLifes\n",
    "            print(counter)\n",
    "            print(meme)\n",
    "            newList.append(meme)\n",
    "            counter = counter + 1\n",
    "            time.sleep(15)\n",
    "            \n",
    "    return memeHalfLifes"
   ]
  },
  {
   "cell_type": "code",
   "execution_count": 14,
   "metadata": {},
   "outputs": [],
   "source": [
    "def runMemesD(memeFrame):\n",
    "    counter = 0\n",
    "    count = 0\n",
    "    memeHalfLifes = pd.DataFrame(columns=['Peak_Date','Title','Half_Life'])\n",
    "    for ir in memeFrame.itertuples():\n",
    "        try:\n",
    "            kw_list = [ir[2]]\n",
    "            date = calcDate(ir[1],8)\n",
    "            pytrends.build_payload(kw_list,  timeframe=date)\n",
    "            memeInterest = pytrends.interest_over_time()\n",
    "            count = count + 1\n",
    "            counter = 0\n",
    "            print(count)\n",
    "            if memeInterest.empty:\n",
    "                emptyList.append(ir[2])\n",
    "            else:\n",
    "                peakInterest = memeInterest[memeInterest[memeInterest.columns[0]] == 100]\n",
    "                PeakInterestDf = memeInterest[peakInterest.index[0]:]\n",
    "                halfInterest = PeakInterestDf[PeakInterestDf[memeInterest.columns[0]] < 50]\n",
    "                finalInterest = finalDf(halfInterest, memeInterest)\n",
    "                if finalInterest.empty:\n",
    "                    tooNoisy.append(meme)\n",
    "                else:\n",
    "                    halfLifeVal = halfLife(peakInterest.iloc[0].name, finalInterest.iloc[0].name)\n",
    "        \n",
    "                    l = [[peakInterest.index[0]], memeInterest.columns[0], halfLifeVal]\n",
    "                    temp = pd.DataFrame(data = [l], columns = ['Peak_Date','Title', 'Half_Life'])\n",
    "                    memeHalfLifes = memeHalfLifes.append(temp)\n",
    "        except Exception as e:\n",
    "            print(e)\n",
    "            if counter > 3:\n",
    "                return memeHalfLifes\n",
    "            print(counter)\n",
    "            print(ir[2])\n",
    "            counter = counter + 1\n",
    "            time.sleep(15)\n",
    "            \n",
    "    return memeHalfLifes "
   ]
  },
  {
   "cell_type": "code",
   "execution_count": null,
   "metadata": {},
   "outputs": [],
   "source": [
    "with open('NamesLeft', 'r') as f:\n",
    "    reader = csv.reader(f)\n",
    "    your_list = list(reader)\n",
    "    tList = your_list[0]\n",
    "    #tList = ['book']\n",
    "    \n",
    "memesFA = runMemesL(tList)\n",
    "\n",
    "test = []\n",
    "for x in memesFA['Peak_Date']:\n",
    "    test.append(x[0].date())\n",
    "memesFA['Peak_Date'] = test\n",
    "\n",
    "#memesFA = runMemesL(['cat'])\n",
    "if Path(\"memes.pkl\").is_file():\n",
    "    df = pd.read_pickle('memes.pkl')\n",
    "    df = df.append(memesFA)\n",
    "else:\n",
    "    df = memesFA\n",
    "\n",
    "\n",
    "with open('NamesLeft', 'w') as myfile:\n",
    "    wr = csv.writer(myfile, quoting=csv.QUOTE_ALL)\n",
    "    wr.writerow(checkDups(checkDups(checkDups(tList,df['Title'].unique()),emptyList),tooNoisy))\n",
    "    \n",
    "if Path(\"emptyList\").is_file():     \n",
    "    with open('emptyList', 'r') as f:\n",
    "        reader = csv.reader(f)\n",
    "        your_list = list(reader)\n",
    "        if len(your_list)>0:\n",
    "            emptyListF = emptyList + your_list[0]\n",
    "        \n",
    "with open('emptyList', 'w') as myfile:\n",
    "    wr = csv.writer(myfile, quoting=csv.QUOTE_ALL)\n",
    "    wr.writerow(emptyList)\n",
    "\n",
    "if Path(\"tooNoisy\").is_file():     \n",
    "    with open('tooNoisy', 'r') as f:\n",
    "        reader = csv.reader(f)\n",
    "        your_listN = list(reader)\n",
    "        if len(your_listN)>0:\n",
    "            tooNoisy = tooNoisy + your_listN[0]\n",
    "        \n",
    "with open('tooNoisy', 'w') as myfile:\n",
    "    wr = csv.writer(myfile, quoting=csv.QUOTE_ALL)\n",
    "    wr.writerow(tooNoisy)\n",
    "    \n",
    "df.drop_duplicates(subset='Title', keep=\"first\", inplace=True)\n",
    "\n",
    "df = df.reset_index(drop=True)\n",
    "df.to_pickle('memes.pkl')\n",
    "print(len(df))  "
   ]
  },
  {
   "cell_type": "code",
   "execution_count": null,
   "metadata": {
    "scrolled": false
   },
   "outputs": [],
   "source": [
    "temp_df = pd.read_pickle('memes.pkl')\n",
    "\n",
    "with open('curr_position.txt','r') as f:\n",
    "    curr = int(f.read())\n",
    "\n",
    "temp_memes = runMemesD(temp_df[curr:])\n",
    "\n",
    "curr = curr + len(temp_memes)\n",
    "print(curr)\n",
    "with open('curr_position.txt','w') as f:\n",
    "    f.write(str(curr))\n",
    "    \n",
    "test = []\n",
    "for x in temp_memes['Peak_Date']:\n",
    "    test.append(x[0].date())\n",
    "temp_memes['Peak_Date'] = test\n",
    "if Path(\"final_memes.pkl\").is_file(): \n",
    "    full_memes = pd.read_pickle('final_memes.pkl')\n",
    "else:\n",
    "    full_memes = []\n",
    "        \n",
    "full_memes = full_memes.append(temp_memes)\n",
    "full_memes.drop_duplicates(subset='Title', keep=\"first\", inplace=True)\n",
    "full_memes = make_f_vals(full_memes)\n",
    "full_memes = full_memes.reset_index(drop=True)\n",
    "full_memes.to_pickle('final_memes.pkl')"
   ]
  }
 ],
 "metadata": {
  "kernelspec": {
   "display_name": "Python 3",
   "language": "python",
   "name": "python3"
  },
  "language_info": {
   "codemirror_mode": {
    "name": "ipython",
    "version": 3
   },
   "file_extension": ".py",
   "mimetype": "text/x-python",
   "name": "python",
   "nbconvert_exporter": "python",
   "pygments_lexer": "ipython3",
   "version": "3.8.8"
  }
 },
 "nbformat": 4,
 "nbformat_minor": 2
}
