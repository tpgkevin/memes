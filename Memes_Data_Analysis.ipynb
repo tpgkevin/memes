{
 "cells": [
  {
   "cell_type": "code",
   "execution_count": 1,
   "id": "d80efa7d",
   "metadata": {},
   "outputs": [],
   "source": [
    "import pandas as pd\n",
    "import numpy as np\n",
    "import datetime\n",
    "import time\n",
    "import csv\n",
    "import dateutil.relativedelta\n",
    "import matplotlib.pyplot as plt; plt.rcdefaults()\n",
    "plt.rcParams ['axes.facecolor'] = 'black' \n",
    "plt.rc('font', family='arial')\n",
    "from sklearn.linear_model import LinearRegression\n",
    "from scipy import stats\n",
    "import statsmodels.formula.api as sm"
   ]
  },
  {
   "cell_type": "code",
   "execution_count": 2,
   "id": "4dd03661",
   "metadata": {},
   "outputs": [],
   "source": [
    "df = pd.read_pickle(\"final_memes.pkl\")"
   ]
  },
  {
   "cell_type": "code",
   "execution_count": 3,
   "id": "5d175b82",
   "metadata": {
    "scrolled": true
   },
   "outputs": [
    {
     "data": {
      "text/plain": [
       "4        1.0\n",
       "15      16.0\n",
       "16       1.0\n",
       "18       1.0\n",
       "23       1.0\n",
       "        ... \n",
       "1745     1.0\n",
       "1849     2.0\n",
       "2224     1.0\n",
       "2515     3.0\n",
       "2523     4.0\n",
       "Name: fHalf_Life, Length: 128, dtype: float64"
      ]
     },
     "execution_count": 3,
     "metadata": {},
     "output_type": "execute_result"
    }
   ],
   "source": [
    "np.mean(df['Half_Life'])\n",
    "df[df['year']==2019]['Half_Life']\n",
    "df['Peak_Date'].iloc[0].year\n",
    "np.mean(df[df['year']==2019]['fHalf_Life'])\n",
    "df[df['year']==2019]['fHalf_Life']"
   ]
  },
  {
   "cell_type": "code",
   "execution_count": 4,
   "id": "c963b3dc",
   "metadata": {},
   "outputs": [
    {
     "data": {
      "text/html": [
       "<div>\n",
       "<style scoped>\n",
       "    .dataframe tbody tr th:only-of-type {\n",
       "        vertical-align: middle;\n",
       "    }\n",
       "\n",
       "    .dataframe tbody tr th {\n",
       "        vertical-align: top;\n",
       "    }\n",
       "\n",
       "    .dataframe thead th {\n",
       "        text-align: right;\n",
       "    }\n",
       "</style>\n",
       "<table border=\"1\" class=\"dataframe\">\n",
       "  <thead>\n",
       "    <tr style=\"text-align: right;\">\n",
       "      <th></th>\n",
       "      <th>Peak_Date</th>\n",
       "      <th>Title</th>\n",
       "      <th>Half_Life</th>\n",
       "      <th>fHalf_Life</th>\n",
       "      <th>fPeak_Date</th>\n",
       "      <th>year</th>\n",
       "      <th>Ordinal_Peak</th>\n",
       "    </tr>\n",
       "  </thead>\n",
       "  <tbody>\n",
       "    <tr>\n",
       "      <th>2596</th>\n",
       "      <td>2012-01-07</td>\n",
       "      <td>no u</td>\n",
       "      <td>136 days</td>\n",
       "      <td>136.0</td>\n",
       "      <td>734509</td>\n",
       "      <td>2012</td>\n",
       "      <td>2925</td>\n",
       "    </tr>\n",
       "  </tbody>\n",
       "</table>\n",
       "</div>"
      ],
      "text/plain": [
       "       Peak_Date Title Half_Life  fHalf_Life  fPeak_Date  year  Ordinal_Peak\n",
       "2596  2012-01-07  no u  136 days       136.0      734509  2012          2925"
      ]
     },
     "execution_count": 4,
     "metadata": {},
     "output_type": "execute_result"
    }
   ],
   "source": [
    "df.loc[df['Half_Life']==max(df['Half_Life'])]"
   ]
  },
  {
   "cell_type": "code",
   "execution_count": 5,
   "id": "69833be0",
   "metadata": {},
   "outputs": [],
   "source": [
    "temp = df[df['fHalf_Life']>14]"
   ]
  },
  {
   "cell_type": "code",
   "execution_count": 8,
   "id": "87e15ff8",
   "metadata": {},
   "outputs": [
    {
     "data": {
      "text/plain": [
       "6.193039762232974"
      ]
     },
     "execution_count": 8,
     "metadata": {},
     "output_type": "execute_result"
    }
   ],
   "source": [
    "temp[temp['year']==2019]['fHalf_Life']\n",
    "np.std(temp[temp['year']==2019]['fHalf_Life'], ddof=1) / np.sqrt(len(temp[temp['year']==2019]['fHalf_Life']))"
   ]
  },
  {
   "cell_type": "code",
   "execution_count": 9,
   "id": "64d95fa2",
   "metadata": {},
   "outputs": [],
   "source": [
    "eList = []\n",
    "yerr = []\n",
    "size = []\n",
    "for x in range(2011,2021):\n",
    "    data = df[df['year']==x]['fHalf_Life']\n",
    "    eList.append(data.mean())\n",
    "    yerr.append(np.std(data, ddof=1) / np.sqrt(len(data)))\n",
    "    size.append(len(data))"
   ]
  },
  {
   "cell_type": "code",
   "execution_count": 10,
   "id": "7824d195",
   "metadata": {},
   "outputs": [
    {
     "data": {
      "text/plain": [
       "[207, 296, 199, 160, 194, 195, 203, 144, 128, 123]"
      ]
     },
     "execution_count": 10,
     "metadata": {},
     "output_type": "execute_result"
    }
   ],
   "source": [
    "size"
   ]
  },
  {
   "cell_type": "code",
   "execution_count": 15,
   "id": "6d4c10ad",
   "metadata": {
    "scrolled": true
   },
   "outputs": [
    {
     "data": {
      "image/png": "[encoded data removed]",
      "text/plain": [
       "<Figure size 640x480 with 1 Axes>"
      ]
     },
     "metadata": {},
     "output_type": "display_data"
    }
   ],
   "source": [
    "fig, ax = plt.subplots()\n",
    "#l = ax.fill_between(x,eList, linewidth=5)\n",
    "ax.errorbar(x, eList,\n",
    "            yerr,\n",
    "            capsize=4,color = 'grey',linewidth =1,zorder=1)\n",
    "ax.plot(eList,linewidth=3,color='white',zorder=2)\n",
    "ax.set_ylabel('Lifetime in days',labelpad=10,color='white')\n",
    "ax.set_xlabel('Year',labelpad=10,color='white')\n",
    "ax.set_title('Average lifetime of memes per year',pad=23,color='white',size=20)\n",
    "\n",
    "xlab = ax.xaxis.get_label()\n",
    "ylab = ax.yaxis.get_label()\n",
    "ax.set_facecolor(\"black\")\n",
    "fig.set_facecolor(\"black\")\n",
    "#xlab.set_style('italic')\n",
    "xlab.set_size(15)\n",
    "#ylab.set_style('italic')\n",
    "ylab.set_size(15)\n",
    "ylab.set_size(15)\n",
    "# tweak the title\n",
    "ttl = ax.title\n",
    "ttl.set_weight('bold')\n",
    "\n",
    "#ax.grid('on')\n",
    "\n",
    "#l.set_facecolor(\"#A9A9A9\")\n",
    "#l.set_alpha(.4)\n",
    "\n",
    "#ax.set_ylim(5,21)\n",
    "#ax.set_xlim(0-.3,len(x)-.9)\n",
    "\n",
    "#t = ax.set_yticks(np.arange(5,20,2.0))\n",
    "ax.spines['left'].set_color(\"white\")\n",
    "ax.spines['bottom'].set_color(\"white\")\n",
    "ax.tick_params(axis='x', colors='white')    #setting up X-axis tick color to red\n",
    "ax.tick_params(axis='y', colors='white')\n",
    " \n",
    "#pad = plt.text(0,23.5,'pad')"
   ]
  },
  {
   "cell_type": "code",
   "execution_count": 16,
   "id": "2a43747b",
   "metadata": {},
   "outputs": [
    {
     "data": {
      "text/plain": [
       "Ttest_indResult(statistic=0.5108922236952854, pvalue=0.6098440055151129)"
      ]
     },
     "execution_count": 16,
     "metadata": {},
     "output_type": "execute_result"
    }
   ],
   "source": [
    "stats.ttest_ind(df[df['year']==2019]['fHalf_Life'], df[df['year']==2018]['fHalf_Life'])"
   ]
  },
  {
   "cell_type": "code",
   "execution_count": 17,
   "id": "7df453e6",
   "metadata": {},
   "outputs": [
    {
     "data": {
      "text/plain": [
       "<AxesSubplot:title={'center':'fHalf_Life'}, xlabel='year'>"
      ]
     },
     "execution_count": 17,
     "metadata": {},
     "output_type": "execute_result"
    },
    {
     "data": {
      "image/png": "[encoded data removed]",
      "text/plain": [
       "<Figure size 640x480 with 1 Axes>"
      ]
     },
     "metadata": {},
     "output_type": "display_data"
    }
   ],
   "source": [
    "df.boxplot('fHalf_Life', by='year') #boxplot for the data. It doesn't work for this kind of data, but I thought it is worth leaving this up here."
   ]
  },
  {
   "cell_type": "code",
   "execution_count": 60,
   "id": "4dd3d604",
   "metadata": {},
   "outputs": [],
   "source": [
    "reg = LinearRegression().fit(x,temp['fHalf_Life'])"
   ]
  },
  {
   "cell_type": "code",
   "execution_count": 58,
   "id": "5924f695",
   "metadata": {},
   "outputs": [],
   "source": [
    "x = np.array(temp['Ordinal_Peak']).reshape(-1,1)"
   ]
  },
  {
   "cell_type": "code",
   "execution_count": 61,
   "id": "0f487fbf",
   "metadata": {},
   "outputs": [],
   "source": [
    "pred = reg.predict(x)"
   ]
  },
  {
   "cell_type": "code",
   "execution_count": 62,
   "id": "a4c4e63f",
   "metadata": {},
   "outputs": [
    {
     "data": {
      "text/plain": [
       "[<matplotlib.lines.Line2D at 0x1c4187012b0>]"
      ]
     },
     "execution_count": 62,
     "metadata": {},
     "output_type": "execute_result"
    },
    {
     "data": {
      "image/png": "[encoded data removed]",
      "text/plain": [
       "<Figure size 640x480 with 1 Axes>"
      ]
     },
     "metadata": {},
     "output_type": "display_data"
    }
   ],
   "source": [
    "plt.plot(x,pred)"
   ]
  },
  {
   "cell_type": "code",
   "execution_count": 18,
   "id": "8142e039",
   "metadata": {},
   "outputs": [
    {
     "data": {
      "text/plain": [
       "(-0.11463586427239023, 0.30511742447746165)"
      ]
     },
     "execution_count": 18,
     "metadata": {},
     "output_type": "execute_result"
    }
   ],
   "source": [
    "stats.stats.pearsonr(temp['Ordinal_Peak'],temp['fHalf_Life'])"
   ]
  },
  {
   "cell_type": "code",
   "execution_count": 53,
   "id": "3491f1c0",
   "metadata": {},
   "outputs": [],
   "source": [
    "temp = temp[temp['year']>2012]"
   ]
  },
  {
   "cell_type": "code",
   "execution_count": 10,
   "id": "3665f763",
   "metadata": {},
   "outputs": [
    {
     "data": {
      "text/html": [
       "<div>\n",
       "<style scoped>\n",
       "    .dataframe tbody tr th:only-of-type {\n",
       "        vertical-align: middle;\n",
       "    }\n",
       "\n",
       "    .dataframe tbody tr th {\n",
       "        vertical-align: top;\n",
       "    }\n",
       "\n",
       "    .dataframe thead th {\n",
       "        text-align: right;\n",
       "    }\n",
       "</style>\n",
       "<table border=\"1\" class=\"dataframe\">\n",
       "  <thead>\n",
       "    <tr style=\"text-align: right;\">\n",
       "      <th></th>\n",
       "      <th>Peak_Date</th>\n",
       "      <th>Title</th>\n",
       "      <th>Half_Life</th>\n",
       "      <th>fHalf_Life</th>\n",
       "      <th>fPeak_Date</th>\n",
       "      <th>year</th>\n",
       "      <th>Ordinal_Peak</th>\n",
       "    </tr>\n",
       "  </thead>\n",
       "  <tbody>\n",
       "    <tr>\n",
       "      <th>0</th>\n",
       "      <td>2018-01-07</td>\n",
       "      <td>mcdonalds alignment chart meme</td>\n",
       "      <td>14 days</td>\n",
       "      <td>14.0</td>\n",
       "      <td>736701</td>\n",
       "      <td>2018</td>\n",
       "      <td>4760</td>\n",
       "    </tr>\n",
       "    <tr>\n",
       "      <th>1</th>\n",
       "      <td>2019-04-14</td>\n",
       "      <td>old town road meme</td>\n",
       "      <td>21 days</td>\n",
       "      <td>21.0</td>\n",
       "      <td>737163</td>\n",
       "      <td>2019</td>\n",
       "      <td>5222</td>\n",
       "    </tr>\n",
       "    <tr>\n",
       "      <th>2</th>\n",
       "      <td>2018-11-11</td>\n",
       "      <td>surprised pikachu meme</td>\n",
       "      <td>7 days</td>\n",
       "      <td>7.0</td>\n",
       "      <td>737009</td>\n",
       "      <td>2018</td>\n",
       "      <td>5068</td>\n",
       "    </tr>\n",
       "    <tr>\n",
       "      <th>3</th>\n",
       "      <td>2018-11-04</td>\n",
       "      <td>epic handshake meme</td>\n",
       "      <td>7 days</td>\n",
       "      <td>7.0</td>\n",
       "      <td>737002</td>\n",
       "      <td>2018</td>\n",
       "      <td>5061</td>\n",
       "    </tr>\n",
       "    <tr>\n",
       "      <th>4</th>\n",
       "      <td>2019-09-08</td>\n",
       "      <td>potion seller meme</td>\n",
       "      <td>7 days</td>\n",
       "      <td>7.0</td>\n",
       "      <td>737310</td>\n",
       "      <td>2019</td>\n",
       "      <td>5369</td>\n",
       "    </tr>\n",
       "    <tr>\n",
       "      <th>...</th>\n",
       "      <td>...</td>\n",
       "      <td>...</td>\n",
       "      <td>...</td>\n",
       "      <td>...</td>\n",
       "      <td>...</td>\n",
       "      <td>...</td>\n",
       "      <td>...</td>\n",
       "    </tr>\n",
       "    <tr>\n",
       "      <th>1662</th>\n",
       "      <td>2011-12-04</td>\n",
       "      <td>tron guy meme</td>\n",
       "      <td>7 days</td>\n",
       "      <td>7.0</td>\n",
       "      <td>734475</td>\n",
       "      <td>2011</td>\n",
       "      <td>2534</td>\n",
       "    </tr>\n",
       "    <tr>\n",
       "      <th>1663</th>\n",
       "      <td>2018-11-25</td>\n",
       "      <td>one take meme</td>\n",
       "      <td>28 days</td>\n",
       "      <td>28.0</td>\n",
       "      <td>737023</td>\n",
       "      <td>2018</td>\n",
       "      <td>5082</td>\n",
       "    </tr>\n",
       "    <tr>\n",
       "      <th>1664</th>\n",
       "      <td>2007-12-30</td>\n",
       "      <td>2 girls 1 cup meme</td>\n",
       "      <td>7 days</td>\n",
       "      <td>7.0</td>\n",
       "      <td>733040</td>\n",
       "      <td>2007</td>\n",
       "      <td>1099</td>\n",
       "    </tr>\n",
       "    <tr>\n",
       "      <th>1665</th>\n",
       "      <td>2010-08-22</td>\n",
       "      <td>advice dog meme</td>\n",
       "      <td>7 days</td>\n",
       "      <td>7.0</td>\n",
       "      <td>734006</td>\n",
       "      <td>2010</td>\n",
       "      <td>2065</td>\n",
       "    </tr>\n",
       "    <tr>\n",
       "      <th>1666</th>\n",
       "      <td>2014-06-08</td>\n",
       "      <td>this is sparta meme</td>\n",
       "      <td>7 days</td>\n",
       "      <td>7.0</td>\n",
       "      <td>735392</td>\n",
       "      <td>2014</td>\n",
       "      <td>3451</td>\n",
       "    </tr>\n",
       "  </tbody>\n",
       "</table>\n",
       "<p>1667 rows × 7 columns</p>\n",
       "</div>"
      ],
      "text/plain": [
       "       Peak_Date                           Title Half_Life  fHalf_Life  \\\n",
       "0     2018-01-07  mcdonalds alignment chart meme   14 days        14.0   \n",
       "1     2019-04-14              old town road meme   21 days        21.0   \n",
       "2     2018-11-11          surprised pikachu meme    7 days         7.0   \n",
       "3     2018-11-04             epic handshake meme    7 days         7.0   \n",
       "4     2019-09-08              potion seller meme    7 days         7.0   \n",
       "...          ...                             ...       ...         ...   \n",
       "1662  2011-12-04                   tron guy meme    7 days         7.0   \n",
       "1663  2018-11-25                   one take meme   28 days        28.0   \n",
       "1664  2007-12-30              2 girls 1 cup meme    7 days         7.0   \n",
       "1665  2010-08-22                 advice dog meme    7 days         7.0   \n",
       "1666  2014-06-08             this is sparta meme    7 days         7.0   \n",
       "\n",
       "      fPeak_Date  year  Ordinal_Peak  \n",
       "0         736701  2018          4760  \n",
       "1         737163  2019          5222  \n",
       "2         737009  2018          5068  \n",
       "3         737002  2018          5061  \n",
       "4         737310  2019          5369  \n",
       "...          ...   ...           ...  \n",
       "1662      734475  2011          2534  \n",
       "1663      737023  2018          5082  \n",
       "1664      733040  2007          1099  \n",
       "1665      734006  2010          2065  \n",
       "1666      735392  2014          3451  \n",
       "\n",
       "[1667 rows x 7 columns]"
      ]
     },
     "execution_count": 10,
     "metadata": {},
     "output_type": "execute_result"
    }
   ],
   "source": [
    "df"
   ]
  },
  {
   "cell_type": "code",
   "execution_count": 58,
   "id": "4a67d600",
   "metadata": {},
   "outputs": [
    {
     "data": {
      "text/plain": [
       "(0.0, 21.0)"
      ]
     },
     "execution_count": 58,
     "metadata": {},
     "output_type": "execute_result"
    },
    {
     "data": {
      "image/png": "[encoded data removed]",
      "text/plain": [
       "<Figure size 640x480 with 1 Axes>"
      ]
     },
     "metadata": {},
     "output_type": "display_data"
    }
   ],
   "source": [
    "fig, ax = plt.subplots()\n",
    "#ax.plot_date(df['Peak_Date'].to_numpy(),df['Half_Life'],color='white',s=1)\n",
    "ax.scatter(df['Ordinal_Peak'][df.fHalf_Life>1],df['fHalf_Life'][df.fHalf_Life>1],s=1)\n",
    "ax.set_ylim(0,21)"
   ]
  },
  {
   "cell_type": "code",
   "execution_count": 23,
   "id": "3952279b",
   "metadata": {},
   "outputs": [],
   "source": [
    " def dt64_to_float(dt64):\n",
    "...     year = dt64.astype('M8[Y]')\n",
    "...     days = (dt64 - year).astype('timedelta64[D]')\n",
    "...     year_next = year + np.timedelta64(1, 'Y')\n",
    "...     days_of_year = (year_next.astype('M8[D]') - year.astype('M8[D]')).astype('timedelta64[D]')\n",
    "...     dt_float = 1970 + year.astype(float) + days / (days_of_year)\n",
    "...     return dt_float"
   ]
  },
  {
   "cell_type": "code",
   "execution_count": 35,
   "id": "c74c15a1",
   "metadata": {},
   "outputs": [
    {
     "data": {
      "text/plain": [
       "array([datetime.date(2018, 7, 1), datetime.date(2018, 2, 15),\n",
       "       datetime.date(2020, 8, 20), ..., datetime.date(2012, 2, 10),\n",
       "       datetime.date(2006, 4, 5), datetime.date(2009, 2, 7)], dtype=object)"
      ]
     },
     "execution_count": 35,
     "metadata": {},
     "output_type": "execute_result"
    }
   ],
   "source": [
    "df['Peak_Date'].to_numpy()"
   ]
  },
  {
   "cell_type": "code",
   "execution_count": 52,
   "id": "7c1354b9",
   "metadata": {},
   "outputs": [
    {
     "data": {
      "text/plain": [
       "0       False\n",
       "1       False\n",
       "2       False\n",
       "3       False\n",
       "4       False\n",
       "        ...  \n",
       "2651    False\n",
       "2652    False\n",
       "2653     True\n",
       "2654    False\n",
       "2655     True\n",
       "Name: fHalf_Life, Length: 2656, dtype: bool"
      ]
     },
     "execution_count": 52,
     "metadata": {},
     "output_type": "execute_result"
    }
   ],
   "source": [
    "df['fHalf_Life']>1"
   ]
  }
 ],
 "metadata": {
  "kernelspec": {
   "display_name": "Python 3",
   "language": "python",
   "name": "python3"
  },
  "language_info": {
   "codemirror_mode": {
    "name": "ipython",
    "version": 3
   },
   "file_extension": ".py",
   "mimetype": "text/x-python",
   "name": "python",
   "nbconvert_exporter": "python",
   "pygments_lexer": "ipython3",
   "version": "3.8.8"
  }
 },
 "nbformat": 4,
 "nbformat_minor": 5
}
